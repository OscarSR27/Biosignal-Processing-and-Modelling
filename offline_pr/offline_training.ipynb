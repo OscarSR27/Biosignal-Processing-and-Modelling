{
 "cells": [
  {
   "cell_type": "code",
   "execution_count": 352,
   "metadata": {},
   "outputs": [],
   "source": [
    "import numpy as np\n",
    "import pyxdf\n",
    "import mne\n",
    "from mne.datasets import misc\n",
    "import matplotlib\n",
    "import matplotlib.pyplot as plt\n",
    "\n",
    "matplotlib.use('TkAgg')"
   ]
  },
  {
   "attachments": {},
   "cell_type": "markdown",
   "metadata": {},
   "source": [
    "Read XDF file"
   ]
  },
  {
   "cell_type": "code",
   "execution_count": 353,
   "metadata": {},
   "outputs": [
    {
     "name": "stderr",
     "output_type": "stream",
     "text": [
      "Stream 2: Calculated effective sampling rate 8.8342 Hz is different from specified rate 500.0000 Hz.\n"
     ]
    }
   ],
   "source": [
    "#Load xdf file\n",
    "xdf_file_path = \"data/CurrentStudy/sub-P001/ses-S200/eeg/sub-P001_ses-S200_task-Default_run-001_eeg.xdf\"\n",
    "#xdf_file_path = \"data/CurrentStudy/sub-P001/ses-S201_FaceDelay/eeg/sub-P001_ses-S201_FaceDelay_task-Default_run-001_eeg.xdf\"\n",
    "streams, header = pyxdf.load_xdf(xdf_file_path)"
   ]
  },
  {
   "attachments": {},
   "cell_type": "markdown",
   "metadata": {},
   "source": [
    "We need to create an mne object in order to use filter and epoch functions. Extract the elements from the dictiornaries.\n",
    "streams[0] contains info about markers and streams[1] contains info about EEG data"
   ]
  },
  {
   "attachments": {},
   "cell_type": "markdown",
   "metadata": {},
   "source": [
    "**Creates RAW data object**"
   ]
  },
  {
   "cell_type": "code",
   "execution_count": 354,
   "metadata": {},
   "outputs": [
    {
     "name": "stdout",
     "output_type": "stream",
     "text": [
      "Setting up band-pass filter from 2 - 16 Hz\n",
      "\n",
      "FIR filter parameters\n",
      "---------------------\n",
      "Designing a one-pass, zero-phase, non-causal bandpass filter:\n",
      "- Windowed time-domain design (firwin) method\n",
      "- Hamming window with 0.0194 passband ripple and 53 dB stopband attenuation\n",
      "- Lower passband edge: 2.00\n",
      "- Lower transition bandwidth: 2.00 Hz (-6 dB cutoff frequency: 1.00 Hz)\n",
      "- Upper passband edge: 16.00 Hz\n",
      "- Upper transition bandwidth: 4.00 Hz (-6 dB cutoff frequency: 18.00 Hz)\n",
      "- Filter length: 825 samples (1.650 s)\n",
      "\n"
     ]
    },
    {
     "name": "stderr",
     "output_type": "stream",
     "text": [
      "[Parallel(n_jobs=1)]: Done  17 tasks      | elapsed:    0.0s\n"
     ]
    }
   ],
   "source": [
    "eeg_data_raw = streams[1]['time_series']\n",
    "sampling_rate = streams[1]['info']['nominal_srate'][0]\n",
    "eeg_data = mne.filter.filter_data(eeg_data_raw.T.astype(np.float64),sampling_rate,2,16)\n",
    "eeg_timestamps = streams[1]['time_stamps']\n",
    "\n",
    "#Extract channel names\n",
    "number_channels = np.shape(streams[1]['info']['desc'][0]['channels'][0]['channel'])[0]\n",
    "ch_names = []\n",
    "ch_pos = {}\n",
    "for i in range(number_channels):\n",
    "    channel_label = streams[1]['info']['desc'][0]['channels'][0]['channel'][i]['label'][0]\n",
    "    pos_x = np.float64(streams[1]['info']['desc'][0]['channels'][0]['channel'][i]['location'][0]['X'][0])#Get X channel position\n",
    "    pos_y = np.float64(streams[1]['info']['desc'][0]['channels'][0]['channel'][i]['location'][0]['Y'][0])#Get Y channel position\n",
    "    pos_z = np.float64(streams[1]['info']['desc'][0]['channels'][0]['channel'][i]['location'][0]['Z'][0])#Get Z channel position\n",
    "    \n",
    "    ch_names.append(channel_label)\n",
    "    ch_pos[channel_label] = [pos_x,pos_y,pos_z]\n",
    "   \n",
    "ch_types = ['eeg'] * len(ch_names)\n"
   ]
  },
  {
   "attachments": {},
   "cell_type": "markdown",
   "metadata": {},
   "source": [
    "**Create events to use for the epoching phase**"
   ]
  },
  {
   "cell_type": "code",
   "execution_count": 355,
   "metadata": {},
   "outputs": [],
   "source": [
    "#https://mne.tools/stable/generated/mne.Epochs.html\n",
    "marker_id = np.squeeze(streams[0]['time_series'])\n",
    "marker_timestamps = streams[0]['time_stamps']\n",
    "marker_timestamps =  marker_timestamps - eeg_timestamps[0]\n",
    "\n",
    "#Creates event array, for this we need event_sample and event_id. Our event sample will be int(marker_timestamps[i]) and event_id as define below\n",
    "events = []\n",
    "for i,marker in enumerate(marker_id):\n",
    "    event_id = {'S10': 1, 'S11': 2}[marker] #Iterates over marker_id and every time it finds an S10 it assigns a 1 to event_id, \n",
    "                                                  #every time it finds an S11 it assigns a 2 to event_id list and then append the value to\n",
    "                                                  #events\n",
    "    #events.append([int((marker_timestamps[i]-6.889)*1000), 0, event_id])\n",
    "    events.append([marker_timestamps[i], 0, event_id])\n",
    "                                          \n",
    "#Why do we use numeric values ​​instead of directly using S10 or S11? \n",
    "# Some functions can expect number values ​​as parameters, so it is more convenient to use a dictionary and assign \n",
    "# S10 and S11 a numeric representation. In case we need to use a string, it is easier to pass this number value \n",
    "# to a string or use the dictionary to index its key (S10 or S11)"
   ]
  },
  {
   "cell_type": "code",
   "execution_count": 356,
   "metadata": {},
   "outputs": [
    {
     "name": "stdout",
     "output_type": "stream",
     "text": [
      "Events with the same timestamps:\n"
     ]
    }
   ],
   "source": [
    "duplicate_events = []\n",
    "timestamps = [event[0] for event in events]\n",
    "\n",
    "for i in range(len(events)):\n",
    "    if timestamps.count(events[i][0]) > 1:\n",
    "        duplicate_events.append(i)\n",
    "\n",
    "print(\"Events with the same timestamps:\")\n",
    "for index in duplicate_events:\n",
    "    print(events[index])"
   ]
  },
  {
   "cell_type": "code",
   "execution_count": 357,
   "metadata": {},
   "outputs": [
    {
     "name": "stdout",
     "output_type": "stream",
     "text": [
      "Creating RawArray with float64 data, n_channels=24, n_times=208787\n",
      "    Range : 0 ... 208786 =      0.000 ...   417.572 secs\n",
      "Ready.\n"
     ]
    },
    {
     "name": "stderr",
     "output_type": "stream",
     "text": [
      "C:\\Users\\ohskr\\AppData\\Local\\Temp\\ipykernel_31328\\2180708702.py:5: RuntimeWarning: Fiducial point nasion not found, assuming identity unknown to head transformation\n",
      "  info.set_montage(montage)\n"
     ]
    }
   ],
   "source": [
    "# Create info object\n",
    "info = mne.create_info(ch_names, sfreq=sampling_rate, ch_types=ch_types)\n",
    "#Set channel positions\n",
    "montage = mne.channels.make_dig_montage(ch_pos)\n",
    "info.set_montage(montage)\n",
    "\n",
    "raw = mne.io.RawArray(eeg_data, info)"
   ]
  },
  {
   "attachments": {},
   "cell_type": "markdown",
   "metadata": {},
   "source": [
    "Plot EEG signal"
   ]
  },
  {
   "cell_type": "code",
   "execution_count": 360,
   "metadata": {},
   "outputs": [
    {
     "data": {
      "text/plain": [
       "<MNEBrowseFigure size 800x800 with 4 Axes>"
      ]
     },
     "execution_count": 360,
     "metadata": {},
     "output_type": "execute_result"
    },
    {
     "name": "stdout",
     "output_type": "stream",
     "text": [
      "Channels marked as bad:\n",
      "none\n"
     ]
    }
   ],
   "source": [
    "raw.plot(events=np.asarray(events),scalings=dict(eeg=1e1),show_options=True)"
   ]
  },
  {
   "attachments": {},
   "cell_type": "markdown",
   "metadata": {},
   "source": [
    "Plot PSD"
   ]
  },
  {
   "cell_type": "code",
   "execution_count": 359,
   "metadata": {},
   "outputs": [
    {
     "name": "stdout",
     "output_type": "stream",
     "text": [
      "Effective window size : 4.096 (s)\n"
     ]
    },
    {
     "name": "stderr",
     "output_type": "stream",
     "text": [
      "C:\\Users\\ohskr\\AppData\\Local\\Temp\\ipykernel_31328\\547714129.py:1: RuntimeWarning: in version 1.5, the default behavior of Spectrum.plot() will change so that bad channels will be shown by default. To keep the old default behavior (and silence this warning), explicitly pass `picks='data', exclude='bads'`.\n",
      "  raw.compute_psd(fmax = 30).plot()\n"
     ]
    },
    {
     "data": {
      "text/plain": [
       "<MNELineFigure size 1000x350 with 2 Axes>"
      ]
     },
     "execution_count": 359,
     "metadata": {},
     "output_type": "execute_result"
    }
   ],
   "source": [
    "raw.compute_psd(fmax = 30).plot()"
   ]
  },
  {
   "attachments": {},
   "cell_type": "markdown",
   "metadata": {},
   "source": [
    "**Implement functions for epoching**"
   ]
  },
  {
   "cell_type": "code",
   "execution_count": 201,
   "metadata": {},
   "outputs": [],
   "source": [
    "def find_nearest_indices(arr1, arr2):\n",
    "    indices = []\n",
    "    for value in arr1:\n",
    "        abs_diff = np.abs(arr2 - value)\n",
    "        nearest_index = np.argmin(abs_diff) #The minimum absolute value between the arrays is calculated. For example if arr2 has elements 454 and 456 and value is 455, \n",
    "                                            #the subtraction abs(454-455) = 1 and abs(456-455) = 1, how then select only one of them? np.argmin() returns only the index of \n",
    "                                            #the first minimum found in case there are several minimum values ​​in the array.\n",
    "        indices.append(nearest_index)\n",
    "    return indices\n",
    "\n",
    "def epoch(raw,marker_timestamps,marker_id,marker,tmin,tmax,sampling_rate):\n",
    "    #Let's go and find how many samples tmin and tmax are equal to. Remember: Samples are integers/discrete values, thats why we have to cast to int\n",
    "    tmin_samples = np.abs(int(tmin*int(sampling_rate)))\n",
    "    tmax_samples = np.abs(int(tmax*int(sampling_rate)))\n",
    "    time_points = np.round(marker_timestamps[np.where(marker_id == marker)],3)\n",
    "    indices = find_nearest_indices(time_points,raw.times)\n",
    "    epochs = []\n",
    "    for trial in range(len(indices)):\n",
    "        epochs.append(np.array(raw.get_data())[:,indices[trial] - tmin_samples:indices[trial] + tmax_samples])\n",
    "        \n",
    "    epochs = np.array(epochs)#Convert to numpy array\n",
    "    return epochs\n",
    "\n",
    "tmin = -0.5\n",
    "tmax = 1\n",
    "event_epochs = epoch(raw,marker_timestamps,marker_id,'S10',tmin,tmax,sampling_rate)\n",
    "non_event_epochs = epoch(raw,marker_timestamps,marker_id,'S11',tmin,tmax,sampling_rate)"
   ]
  },
  {
   "attachments": {},
   "cell_type": "markdown",
   "metadata": {},
   "source": [
    "**Visualization**"
   ]
  },
  {
   "cell_type": "code",
   "execution_count": 368,
   "metadata": {},
   "outputs": [],
   "source": [
    "time = np.arange(tmin,tmax,1/int(sampling_rate)) #This is not the general time but an snapshop from -0.500 to 1.000 using the sample sampling frequency used in data collection\n",
    "event_avg = np.mean(event_epochs,axis = 0)\n",
    "non_event_avg = np.mean(non_event_epochs,axis = 0)\n",
    "\n",
    "fig, axs = plt.subplots(int(len(ch_names)/4), int(len(ch_names)/6))\n",
    "\n",
    "#Select a window to look for maximum\n",
    "lower_idx = np.where(time >= 0.250)[0][0]\n",
    "upper_idx = np.where(time <= 0.305)[0][-1]\n",
    "\n",
    "plot_next_row = 0\n",
    "plot_next_column = 0\n",
    "for ch in range(int(len(ch_names))):\n",
    "    if ch%6 == 0 and ch != 0:\n",
    "        plot_next_row = 0\n",
    "        plot_next_column = plot_next_column + 1 \n",
    "    max_idx = np.where(event_avg == max(event_avg[ch,lower_idx:upper_idx]))[1][0]\n",
    "    axs[plot_next_row, plot_next_column].plot(time,event_avg[ch,:], color = 'lightgreen',label=\"Event\")\n",
    "    axs[plot_next_row, plot_next_column].plot(time[max_idx], event_avg[ch,max_idx], marker='x', color='red')\n",
    "    axs[plot_next_row, plot_next_column].plot(time,non_event_avg[ch,:], color = 'blue',label=\"Non Event\")\n",
    "    axs[plot_next_row, plot_next_column].plot(time[max_idx], non_event_avg[ch,max_idx], marker='x', color='red')\n",
    "    axs[plot_next_row, plot_next_column].set_title('Ch ' + str(ch + 1) + ' :' + ch_names[ch])\n",
    "    axs[plot_next_row, plot_next_column].text(time[max_idx], 0, str(np.round(time[max_idx],3)), fontsize=9, color='black', ha='center', va='bottom')\n",
    "    axs[plot_next_row, plot_next_column].grid(True)\n",
    "    \n",
    "    plot_next_row = plot_next_row + 1\n",
    "\n",
    "\n",
    "fig.subplots_adjust(hspace=0.9)\n",
    "plt.show()"
   ]
  },
  {
   "attachments": {},
   "cell_type": "markdown",
   "metadata": {},
   "source": [
    "**Feature extraction**"
   ]
  },
  {
   "cell_type": "code",
   "execution_count": null,
   "metadata": {},
   "outputs": [],
   "source": [
    "time = np.arange(tmin,tmax,1/int(sampling_rate))\n",
    "event_avg = np.mean(event_epochs,axis = 0)\n",
    "non_event_avg = np.mean(non_event_epochs,axis = 0)\n",
    "\n",
    "fig, axs = plt.subplots(int(len(ch_names)/4), int(len(ch_names)/6))\n",
    "\n",
    "#Select a window to look for maximum\n",
    "lower_idx = np.where(time >= 0.250)[0][0]\n",
    "upper_idx = np.where(time <= 0.305)[0][-1]\n",
    "\n",
    "plot_next_row = 0\n",
    "plot_next_column = 0\n",
    "for ch in range(int(len(ch_names))):\n",
    "    if ch%6 == 0 and ch != 0:\n",
    "        plot_next_row = 0\n",
    "        plot_next_column = plot_next_column + 1 \n",
    "    max_idx = np.where(event_avg == max(event_avg[ch,lower_idx:upper_idx]))[1][0]\n",
    "    axs[plot_next_row, plot_next_column].plot(time,event_avg[ch,:], color = 'lightgreen',label=\"Event\")\n",
    "    axs[plot_next_row, plot_next_column].plot(time[max_idx], event_avg[ch,max_idx], marker='x', color='red')\n",
    "    axs[plot_next_row, plot_next_column].plot(time,non_event_avg[ch,:], color = 'blue',label=\"Non Event\")\n",
    "    axs[plot_next_row, plot_next_column].plot(time[max_idx], non_event_avg[ch,max_idx], marker='x', color='red')\n",
    "    axs[plot_next_row, plot_next_column].set_title('Ch ' + str(ch + 1) + ' :' + ch_names[ch])\n",
    "    axs[plot_next_row, plot_next_column].text(time[max_idx], 0, str(np.round(time[max_idx],3)), fontsize=9, color='black', ha='center', va='bottom')\n",
    "    axs[plot_next_row, plot_next_column].grid(True)\n",
    "    \n",
    "    plot_next_row = plot_next_row + 1\n",
    "\n",
    "\n",
    "fig.subplots_adjust(hspace=0.9)\n",
    "plt.show()"
   ]
  }
 ],
 "metadata": {
  "kernelspec": {
   "display_name": "Python 3",
   "language": "python",
   "name": "python3"
  },
  "language_info": {
   "codemirror_mode": {
    "name": "ipython",
    "version": 3
   },
   "file_extension": ".py",
   "mimetype": "text/x-python",
   "name": "python",
   "nbconvert_exporter": "python",
   "pygments_lexer": "ipython3",
   "version": "3.11.3"
  },
  "orig_nbformat": 4
 },
 "nbformat": 4,
 "nbformat_minor": 2
}
